{
 "cells": [
  {
   "cell_type": "markdown",
   "metadata": {
    "colab": {},
    "colab_type": "code",
    "id": "gOV60moFSSPB"
   },
   "source": [
    " ```yaml\n",
    "titan: v1\n",
    "service:\n",
    "  image: scipy\n",
    "  machine:\n",
    "    cpu: 4\n",
    "    memory: 2048MB\n",
    "```"
   ]
  },
  {
   "cell_type": "code",
   "execution_count": null,
   "metadata": {},
   "outputs": [],
   "source": [
    "import os\n",
    "import time\n",
    "import json\n",
    "import functools\n",
    "import pandas as pd\n",
    "import numpy as np\n",
    "from scipy.sparse.linalg import svds"
   ]
  },
  {
   "cell_type": "code",
   "execution_count": null,
   "metadata": {
    "colab": {},
    "colab_type": "code",
    "id": "J5p6m77nSSPF"
   },
   "outputs": [],
   "source": [
    "# 1M Dataset\n",
    "df_movies = pd.read_csv(\"https://raw.githubusercontent.com/jfuentesibanez/datasets/master/movies.csv\", usecols=['movieId', 'title', 'genre'], sep=';', dtype={'movieId': 'int32', 'title': 'str', 'genre': 'str'})"
   ]
  },
  {
   "cell_type": "code",
   "execution_count": null,
   "metadata": {
    "colab": {},
    "colab_type": "code",
    "id": "1bmhejIQSSPI"
   },
   "outputs": [],
   "source": [
    "# 1M Dataset\n",
    "df_ratings = pd.read_csv(\"https://raw.githubusercontent.com/jfuentesibanez/datasets/master/ratings.csv\", usecols=['userId', 'movieId', 'rating'], sep=';', dtype={'userId': 'int32', 'movieId': 'int32', 'rating': 'float32'})"
   ]
  },
  {
   "cell_type": "code",
   "execution_count": null,
   "metadata": {
    "colab": {},
    "colab_type": "code",
    "id": "xkmLVU8NSSPK"
   },
   "outputs": [],
   "source": [
    "df_ratings=df_ratings[:200000]\n",
    "df_movie_features = df_ratings.pivot(\n",
    "    index='userId',\n",
    "    columns='movieId',\n",
    "    values='rating'\n",
    ").fillna(0)"
   ]
  },
  {
   "cell_type": "code",
   "execution_count": null,
   "metadata": {
    "colab": {
     "base_uri": "https://localhost:8080/",
     "height": 317
    },
    "colab_type": "code",
    "id": "38PYBjx3SSPM",
    "outputId": "31a26e61-46b9-4e2f-9822-7753d52f518a"
   },
   "outputs": [],
   "source": [
    "R = df_movie_features.as_matrix()\n",
    "user_ratings_mean = np.mean(R, axis = 1)"
   ]
  },
  {
   "cell_type": "code",
   "execution_count": null,
   "metadata": {
    "colab": {
     "base_uri": "https://localhost:8080/",
     "height": 198
    },
    "colab_type": "code",
    "id": "_8Wk9AnNSSPP",
    "outputId": "0d78a401-5366-47fa-c9ca-83cf3180f557"
   },
   "outputs": [],
   "source": [
    "U, sigma, Vt = svds(R, k = 50)\n",
    "sigma = np.diag(sigma)\n",
    "all_user_predicted_ratings = np.dot(np.dot(U, sigma), Vt) + user_ratings_mean.reshape(-1, 1)"
   ]
  },
  {
   "cell_type": "code",
   "execution_count": null,
   "metadata": {
    "colab": {
     "base_uri": "https://localhost:8080/",
     "height": 164
    },
    "colab_type": "code",
    "id": "GDVvV3CbSSPR",
    "outputId": "0a35a7b0-f40e-48ff-d529-c2b67a82d97c"
   },
   "outputs": [],
   "source": [
    "preds_df = pd.DataFrame(all_user_predicted_ratings, columns = df_movie_features.columns)"
   ]
  },
  {
   "cell_type": "code",
   "execution_count": null,
   "metadata": {
    "colab": {},
    "colab_type": "code",
    "id": "KO7DJPWHSSPT"
   },
   "outputs": [],
   "source": [
    "def recommend_movies(preds_df, userID, movies_df, original_ratings_df, num_recommendations=5):\n",
    "    \n",
    "    # Retrieve and sort user top rated movies and top predictions \n",
    "    user_row_number = userID - 1 \n",
    "    sorted_user_predictions = preds_df.iloc[user_row_number].sort_values(ascending=False) \n",
    "\n",
    "    user_data = original_ratings_df[original_ratings_df.userId == (userID)]\n",
    "    user_full = (user_data.merge(movies_df, how = 'left', left_on = 'movieId', right_on = 'movieId').\n",
    "                     sort_values(['rating'], ascending=False)\n",
    "                 )\n",
    "    predictions = (movies_df[~movies_df['movieId'].isin(user_full['movieId'])]).merge(pd.DataFrame(sorted_user_predictions).reset_index(), how = 'left', left_on = 'movieId',\n",
    "               right_on = 'movieId').rename(columns = {user_row_number: 'Predictions'}).sort_values('Predictions', ascending = False).iloc[:num_recommendations, :-1]\n",
    "                      \n",
    "    return user_full, predictions"
   ]
  },
  {
   "cell_type": "code",
   "execution_count": null,
   "metadata": {
    "colab": {},
    "colab_type": "code",
    "id": "RdHQE_mVCF1e"
   },
   "outputs": [],
   "source": [
    "# Store total elapsed time, total requests, last 10 processing times in milliseconds\n",
    "metrics = {'total': 0, 'requests': 0, 'recent': [] }\n",
    "\n",
    "# Maximum processing time metrics to store from most recent to oldest one\n",
    "max_recent_items = 20\n",
    "\n",
    "\n",
    "def store_metrics(start):\n",
    "  elapsed = int((time.time() - start) * 1000)\n",
    "  metrics['requests'] += 1\n",
    "  metrics['total'] += elapsed\n",
    "  metrics['recent'][0:0] = [elapsed]\n",
    "  metrics['recent'] = metrics['recent'][0:max_recent_items] if len(metrics['recent']) >= max_recent_items else metrics['recent']\n",
    "\n",
    "\n",
    "def measure(fn):\n",
    "  @functools.wraps(fn)\n",
    "  def wrapper(*args, **kwds):\n",
    "    start = time.time()\n",
    "    try:\n",
    "      return fn(*args, **kwds)\n",
    "    finally:\n",
    "      store_metrics(start)\n",
    "  return wrapper\n",
    "\n",
    "\n",
    "def endpoint(fn):\n",
    "  @functools.wraps(fn)\n",
    "  def wrapper(*args, **kwds):\n",
    "    req = args[0] if len(args) > 0 else '{}'\n",
    "    request = json.loads(req)\n",
    "    args = request.get('args', {})\n",
    "    return fn(args, **kwds)\n",
    "  return wrapper"
   ]
  },
  {
   "cell_type": "code",
   "execution_count": null,
   "metadata": {
    "colab": {},
    "colab_type": "code",
    "id": "4RQ5qiRqB6UE"
   },
   "outputs": [],
   "source": [
    "def metrics():\n",
    "  # Time units in milliseconds\n",
    "  total = metrics['total']\n",
    "  requests = metrics['requests']\n",
    "  average_time = int(total / requests) if requests > 0 else 0\n",
    "  data = {\n",
    "      'requests': requests,\n",
    "      'average': average_time,\n",
    "      'total_time': total,\n",
    "      'last_calls': metrics['recent']\n",
    "  }\n",
    "  return json.dumps(data, indent=2)\n",
    "\n",
    "@measure\n",
    "@endpoint\n",
    "def recompute_svd(args):\n",
    "  k_txt = args.get('param', args.get('50', None))\n",
    "  k = int(list(filter(str.isdigit, k_txt))[0])\n",
    "  U, sigma, Vt = svds(R, k = k)\n",
    "  sigma = np.diag(sigma)\n",
    "  all_user_predicted_ratings = np.dot(np.dot(U, sigma), Vt) + user_ratings_mean.reshape(-1, 1)\n",
    "  return str(k)\n",
    "\n",
    "@endpoint\n",
    "def viewed(args):\n",
    "  user_id_txt = args.get('param', args.get('001', None))\n",
    "  user_id = int(list(filter(str.isdigit, user_id_txt))[0])\n",
    "  already_rated, predictions = recommend_movies(preds_df, user_id, df_movies, df_ratings, 10)\n",
    "  return already_rated.title.to_string(index=False)\n",
    "\n",
    "@endpoint\n",
    "def recommended(args):\n",
    "  user_id_txt = args.get('param', args.get('001', None))\n",
    "  user_id = int(list(filter(str.isdigit, user_id_txt))[0])\n",
    "  already_rated, predictions = recommend_movies(preds_df, user_id, df_movies, df_ratings, 10)\n",
    "  return predictions.title.to_string(index=False)"
   ]
  },
  {
   "cell_type": "code",
   "execution_count": null,
   "metadata": {
    "colab": {},
    "colab_type": "code",
    "id": "uvsT_qKZSSPV"
   },
   "outputs": [],
   "source": [
    "# Mock request object for local API testing\n",
    "args = {\n",
    "    'param': ['400']\n",
    "}\n",
    "REQUEST = json.dumps({ 'args': args })"
   ]
  },
  {
   "cell_type": "code",
   "execution_count": null,
   "metadata": {
    "colab": {
     "base_uri": "https://localhost:8080/",
     "height": 153
    },
    "colab_type": "code",
    "id": "q4zB4q5WIZzl",
    "outputId": "143d4e90-fa2c-466a-cd01-8e3021ccc650"
   },
   "outputs": [],
   "source": [
    "# GET /metrics\n",
    "print(metrics())"
   ]
  },
  {
   "cell_type": "code",
   "execution_count": null,
   "metadata": {
    "colab": {
     "base_uri": "https://localhost:8080/",
     "height": 307
    },
    "colab_type": "code",
    "id": "BMA1VPd0SSPX",
    "outputId": "9e47228c-3431-4156-a85a-23a179ae783f"
   },
   "outputs": [],
   "source": [
    "# POST /viewed\n",
    "print(viewed(REQUEST))"
   ]
  },
  {
   "cell_type": "code",
   "execution_count": null,
   "metadata": {
    "colab": {
     "base_uri": "https://localhost:8080/",
     "height": 290
    },
    "colab_type": "code",
    "id": "ZKz3lP-CSSPZ",
    "outputId": "4d4557ad-a068-4933-b53e-ce56f7d570a6"
   },
   "outputs": [],
   "source": [
    "# POST /recommended\n",
    "print(recommended(REQUEST))"
   ]
  },
  {
   "cell_type": "code",
   "execution_count": null,
   "metadata": {
    "colab": {},
    "colab_type": "code",
    "id": "DiUv51SuSSPb"
   },
   "outputs": [],
   "source": [
    "# POST /recompute_svd\n",
    "print(recompute_svd(REQUEST))"
   ]
  }
 ],
 "metadata": {
  "colab": {
   "collapsed_sections": [],
   "name": "svd_recommender.ipynb",
   "provenance": []
  },
  "kernelspec": {
   "display_name": "Python 3",
   "language": "python",
   "name": "python3"
  },
  "language_info": {
   "codemirror_mode": {
    "name": "ipython",
    "version": 3
   },
   "file_extension": ".py",
   "mimetype": "text/x-python",
   "name": "python",
   "nbconvert_exporter": "python",
   "pygments_lexer": "ipython3",
   "version": "3.7.1"
  }
 },
 "nbformat": 4,
 "nbformat_minor": 1
}
